{
 "cells": [
  {
   "cell_type": "markdown",
   "metadata": {},
   "source": [
    "## Libraries"
   ]
  },
  {
   "cell_type": "code",
   "execution_count": 2,
   "metadata": {},
   "outputs": [],
   "source": [
    "import os \n",
    "import numpy as np \n",
    "import pandas as pd\n",
    "from scipy import stats"
   ]
  },
  {
   "cell_type": "markdown",
   "metadata": {},
   "source": [
    "## Loading data"
   ]
  },
  {
   "cell_type": "markdown",
   "metadata": {},
   "source": [
    "- Thhe data comes from [NASDAQ](https://www.nasdaq.com/market-activity/index/spx/historical?page=1&rows_per_page=10&timeline=y10)"
   ]
  },
  {
   "cell_type": "code",
   "execution_count": 3,
   "metadata": {},
   "outputs": [],
   "source": [
    "sp500 = pd.read_csv('sp500.csv')"
   ]
  },
  {
   "cell_type": "code",
   "execution_count": 4,
   "metadata": {},
   "outputs": [],
   "source": [
    "sp500.Date = pd.to_datetime(sp500.Date)"
   ]
  },
  {
   "cell_type": "code",
   "execution_count": 5,
   "metadata": {},
   "outputs": [
    {
     "data": {
      "text/html": [
       "<div>\n",
       "<style scoped>\n",
       "    .dataframe tbody tr th:only-of-type {\n",
       "        vertical-align: middle;\n",
       "    }\n",
       "\n",
       "    .dataframe tbody tr th {\n",
       "        vertical-align: top;\n",
       "    }\n",
       "\n",
       "    .dataframe thead th {\n",
       "        text-align: right;\n",
       "    }\n",
       "</style>\n",
       "<table border=\"1\" class=\"dataframe\">\n",
       "  <thead>\n",
       "    <tr style=\"text-align: right;\">\n",
       "      <th></th>\n",
       "      <th>Date</th>\n",
       "      <th>Close/Last</th>\n",
       "      <th>Open</th>\n",
       "      <th>High</th>\n",
       "      <th>Low</th>\n",
       "    </tr>\n",
       "  </thead>\n",
       "  <tbody>\n",
       "    <tr>\n",
       "      <th>0</th>\n",
       "      <td>2024-12-27</td>\n",
       "      <td>5970.84</td>\n",
       "      <td>6006.17</td>\n",
       "      <td>6006.17</td>\n",
       "      <td>5932.95</td>\n",
       "    </tr>\n",
       "    <tr>\n",
       "      <th>1</th>\n",
       "      <td>2024-12-26</td>\n",
       "      <td>6037.59</td>\n",
       "      <td>6024.97</td>\n",
       "      <td>6049.75</td>\n",
       "      <td>6007.37</td>\n",
       "    </tr>\n",
       "    <tr>\n",
       "      <th>2</th>\n",
       "      <td>2024-12-24</td>\n",
       "      <td>6040.04</td>\n",
       "      <td>5984.63</td>\n",
       "      <td>6040.10</td>\n",
       "      <td>5981.44</td>\n",
       "    </tr>\n",
       "  </tbody>\n",
       "</table>\n",
       "</div>"
      ],
      "text/plain": [
       "        Date  Close/Last     Open     High      Low\n",
       "0 2024-12-27     5970.84  6006.17  6006.17  5932.95\n",
       "1 2024-12-26     6037.59  6024.97  6049.75  6007.37\n",
       "2 2024-12-24     6040.04  5984.63  6040.10  5981.44"
      ]
     },
     "execution_count": 5,
     "metadata": {},
     "output_type": "execute_result"
    }
   ],
   "source": [
    "sp500.head(3)"
   ]
  },
  {
   "cell_type": "markdown",
   "metadata": {},
   "source": [
    "## Data description"
   ]
  },
  {
   "cell_type": "code",
   "execution_count": 6,
   "metadata": {},
   "outputs": [
    {
     "data": {
      "text/plain": [
       "count      30.000000\n",
       "mean     5998.206000\n",
       "std        70.283469\n",
       "min      5867.080000\n",
       "25%      5948.825000\n",
       "50%      6027.005000\n",
       "75%      6050.970000\n",
       "max      6090.270000\n",
       "Name: Close/Last, dtype: float64"
      ]
     },
     "execution_count": 6,
     "metadata": {},
     "output_type": "execute_result"
    }
   ],
   "source": [
    "sp500.head(30)[\"Close/Last\"].describe()"
   ]
  },
  {
   "cell_type": "markdown",
   "metadata": {},
   "source": [
    "## Simple Confidence Interval"
   ]
  },
  {
   "cell_type": "code",
   "execution_count": 7,
   "metadata": {},
   "outputs": [
    {
     "data": {
      "text/plain": [
       "(5965.153094479969, 6031.2589055200315)"
      ]
     },
     "execution_count": 7,
     "metadata": {},
     "output_type": "execute_result"
    }
   ],
   "source": [
    "n_days = 30\n",
    "conf_level = 0.99\n",
    "stats.norm.interval(conf_level, loc=sp500[\"Close/Last\"].head(n_days).mean(), scale=sp500[\"Close/Last\"].head(n_days).std()/np.sqrt(n_days))"
   ]
  },
  {
   "cell_type": "markdown",
   "metadata": {},
   "source": [
    "## Normality test of the prices (One-tailed)"
   ]
  },
  {
   "cell_type": "code",
   "execution_count": 8,
   "metadata": {},
   "outputs": [],
   "source": [
    "# Perform one-sample t-test\n",
    "t_stat, p_value = stats.ttest_1samp(sp500[\"Close/Last\"].head(n_days), 6100)"
   ]
  },
  {
   "cell_type": "code",
   "execution_count": 9,
   "metadata": {},
   "outputs": [
    {
     "data": {
      "text/plain": [
       "9.498971201454392e-09"
      ]
     },
     "execution_count": 9,
     "metadata": {},
     "output_type": "execute_result"
    }
   ],
   "source": [
    "p_value"
   ]
  },
  {
   "cell_type": "markdown",
   "metadata": {},
   "source": [
    "## Normality test of the prices (Jarque-Bera)"
   ]
  },
  {
   "cell_type": "code",
   "execution_count": 10,
   "metadata": {},
   "outputs": [],
   "source": [
    "# Perform Jarque-Bera test\n",
    "jb_stat, p_value = stats.jarque_bera(sp500[\"Close/Last\"].head(n_days))\n",
    "\n",
    "# Check if the close prices are normally distributed\n",
    "assert p_value > 0.05, \"The close prices are not normally distributed\"\n"
   ]
  },
  {
   "cell_type": "code",
   "execution_count": 11,
   "metadata": {},
   "outputs": [],
   "source": [
    "# Perform normality test\n",
    "n_days = 30\n",
    "k2, p_value = stats.normaltest( sp500[\"Close/Last\"].head(n_days))\n",
    "\n",
    "# Check if the close prices are normally distributed\n",
    "assert p_value > 0.05, \"The close prices are not normally distributed\""
   ]
  },
  {
   "cell_type": "markdown",
   "metadata": {},
   "source": [
    "## Monte Carlo Simulation"
   ]
  },
  {
   "cell_type": "markdown",
   "metadata": {},
   "source": [
    "$\n",
    "\\sigma_{daily} = \\frac{\\sigma_{n}}{\\sqrt{n}}\n",
    "$"
   ]
  },
  {
   "cell_type": "code",
   "execution_count": 12,
   "metadata": {},
   "outputs": [],
   "source": [
    "# monte carlo simulation to see how much of time the price falls in specific intervals assuming prices\n",
    "n_simulations = 1000000\n",
    "\n",
    "conf_level = 0.99\n",
    "price = sp500[\"Close/Last\"].head(n_days)\n",
    "price_mean = price.mean()\n",
    "price_std = price.std()/np.sqrt(n_days)\n",
    "intervals_bounds = [0, 5700, 5900, 6100]\n",
    "n_intervals = len(intervals_bounds) \n",
    "\n",
    "n_times_price_falls_below_5700 = 0\n",
    "n_times_price_falls_between_5700_5900 = 0\n",
    "n_times_price_falls_between_5900_6100 = 0\n",
    "n_times_price_falls_above_6100 = 0\n",
    "\n",
    "for i in range(n_simulations):\n",
    "    simulated_price = np.random.normal(price_mean, price_std, n_days)\n",
    "    if simulated_price.min() < intervals_bounds[1]:\n",
    "        n_times_price_falls_below_5700 += 1\n",
    "    elif simulated_price.min() < intervals_bounds[2]:\n",
    "        n_times_price_falls_between_5700_5900 += 1\n",
    "    elif simulated_price.min() < intervals_bounds[3]:\n",
    "        n_times_price_falls_between_5900_6100 += 1\n",
    "    else:\n",
    "        n_times_price_falls_above_6100 += 1"
   ]
  },
  {
   "cell_type": "code",
   "execution_count": 13,
   "metadata": {},
   "outputs": [
    {
     "data": {
      "text/html": [
       "<div>\n",
       "<style scoped>\n",
       "    .dataframe tbody tr th:only-of-type {\n",
       "        vertical-align: middle;\n",
       "    }\n",
       "\n",
       "    .dataframe tbody tr th {\n",
       "        vertical-align: top;\n",
       "    }\n",
       "\n",
       "    .dataframe thead th {\n",
       "        text-align: right;\n",
       "    }\n",
       "</style>\n",
       "<table border=\"1\" class=\"dataframe\">\n",
       "  <thead>\n",
       "    <tr style=\"text-align: right;\">\n",
       "      <th></th>\n",
       "      <th>Interval</th>\n",
       "      <th>Probability</th>\n",
       "    </tr>\n",
       "  </thead>\n",
       "  <tbody>\n",
       "    <tr>\n",
       "      <th>0</th>\n",
       "      <td>[0, 5700)</td>\n",
       "      <td>0.0</td>\n",
       "    </tr>\n",
       "    <tr>\n",
       "      <th>1</th>\n",
       "      <td>[5700, 5900)</td>\n",
       "      <td>0.0</td>\n",
       "    </tr>\n",
       "    <tr>\n",
       "      <th>2</th>\n",
       "      <td>[5900, 6100)</td>\n",
       "      <td>100.0</td>\n",
       "    </tr>\n",
       "    <tr>\n",
       "      <th>3</th>\n",
       "      <td>[6100, +inf)</td>\n",
       "      <td>0.0</td>\n",
       "    </tr>\n",
       "  </tbody>\n",
       "</table>\n",
       "</div>"
      ],
      "text/plain": [
       "       Interval  Probability\n",
       "0     [0, 5700)          0.0\n",
       "1  [5700, 5900)          0.0\n",
       "2  [5900, 6100)        100.0\n",
       "3  [6100, +inf)          0.0"
      ]
     },
     "execution_count": 13,
     "metadata": {},
     "output_type": "execute_result"
    }
   ],
   "source": [
    "# compute probabilities\n",
    "p_price_falls_below_5700 = n_times_price_falls_below_5700 / n_simulations\n",
    "p_price_falls_between_5700_5900 = n_times_price_falls_between_5700_5900 / n_simulations\n",
    "p_price_falls_between_5900_6100 = n_times_price_falls_between_5900_6100 / n_simulations\n",
    "p_price_falls_above_6100 = n_times_price_falls_above_6100 / n_simulations\n",
    "\n",
    "pd.DataFrame({\n",
    "    \"Interval\": [\"[0, 5700)\", \"[5700, 5900)\", \"[5900, 6100)\", \"[6100, +inf)\"],\n",
    "    \"Probability\": [round(x*100, 2) for x in [p_price_falls_below_5700, p_price_falls_between_5700_5900, p_price_falls_between_5900_6100, p_price_falls_above_6100]]\n",
    "})"
   ]
  },
  {
   "cell_type": "code",
   "execution_count": null,
   "metadata": {},
   "outputs": [],
   "source": []
  }
 ],
 "metadata": {
  "kernelspec": {
   "display_name": "base",
   "language": "python",
   "name": "python3"
  },
  "language_info": {
   "codemirror_mode": {
    "name": "ipython",
    "version": 3
   },
   "file_extension": ".py",
   "mimetype": "text/x-python",
   "name": "python",
   "nbconvert_exporter": "python",
   "pygments_lexer": "ipython3",
   "version": "3.12.7"
  }
 },
 "nbformat": 4,
 "nbformat_minor": 2
}
