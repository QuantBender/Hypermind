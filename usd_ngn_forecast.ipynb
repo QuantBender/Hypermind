{
 "cells": [
  {
   "cell_type": "markdown",
   "metadata": {},
   "source": [
    "## Libraries"
   ]
  },
  {
   "cell_type": "code",
   "execution_count": 131,
   "metadata": {},
   "outputs": [],
   "source": [
    "import os, warnings\n",
    "warnings.filterwarnings('ignore')\n",
    "import numpy as np \n",
    "import pandas as pd\n",
    "from scipy import stats\n",
    "import seaborn as sns\n",
    "import matplotlib.pyplot as plt\n",
    "from sklearn.mixture import GaussianMixture\n",
    "from sklearn.utils import resample\n",
    "from tqdm.notebook import tqdm\n",
    "OMP_NUM_THREADS=1"
   ]
  },
  {
   "cell_type": "markdown",
   "metadata": {},
   "source": [
    "## Loading data"
   ]
  },
  {
   "cell_type": "markdown",
   "metadata": {},
   "source": [
    "- The data comes from [investing.com](https://www.investing.com/currencies/usd-ngn-historical-data)"
   ]
  },
  {
   "cell_type": "code",
   "execution_count": 49,
   "metadata": {},
   "outputs": [],
   "source": [
    "usd_ngn = pd.read_csv('usd_ngn.csv')"
   ]
  },
  {
   "cell_type": "code",
   "execution_count": 50,
   "metadata": {},
   "outputs": [
    {
     "name": "stdout",
     "output_type": "stream",
     "text": [
      "<class 'pandas.core.frame.DataFrame'>\n",
      "RangeIndex: 2870 entries, 0 to 2869\n",
      "Data columns (total 7 columns):\n",
      " #   Column    Non-Null Count  Dtype \n",
      "---  ------    --------------  ----- \n",
      " 0   Date      2870 non-null   object\n",
      " 1   Price     2870 non-null   object\n",
      " 2   Open      2870 non-null   object\n",
      " 3   High      2870 non-null   object\n",
      " 4   Low       2870 non-null   object\n",
      " 5   Vol.      652 non-null    object\n",
      " 6   Change %  2870 non-null   object\n",
      "dtypes: object(7)\n",
      "memory usage: 157.1+ KB\n"
     ]
    }
   ],
   "source": [
    "usd_ngn.info()"
   ]
  },
  {
   "cell_type": "markdown",
   "metadata": {},
   "source": [
    "## Basic EDA"
   ]
  },
  {
   "cell_type": "code",
   "execution_count": 51,
   "metadata": {},
   "outputs": [
    {
     "data": {
      "text/html": [
       "<div>\n",
       "<style scoped>\n",
       "    .dataframe tbody tr th:only-of-type {\n",
       "        vertical-align: middle;\n",
       "    }\n",
       "\n",
       "    .dataframe tbody tr th {\n",
       "        vertical-align: top;\n",
       "    }\n",
       "\n",
       "    .dataframe thead th {\n",
       "        text-align: right;\n",
       "    }\n",
       "</style>\n",
       "<table border=\"1\" class=\"dataframe\">\n",
       "  <thead>\n",
       "    <tr style=\"text-align: right;\">\n",
       "      <th></th>\n",
       "      <th>Date</th>\n",
       "      <th>Price</th>\n",
       "      <th>Open</th>\n",
       "      <th>High</th>\n",
       "      <th>Low</th>\n",
       "      <th>Vol.</th>\n",
       "      <th>Change %</th>\n",
       "    </tr>\n",
       "  </thead>\n",
       "  <tbody>\n",
       "    <tr>\n",
       "      <th>0</th>\n",
       "      <td>12/30/2024</td>\n",
       "      <td>1,538.570</td>\n",
       "      <td>1,549.000</td>\n",
       "      <td>1,552.500</td>\n",
       "      <td>1,538.570</td>\n",
       "      <td>NaN</td>\n",
       "      <td>0.00%</td>\n",
       "    </tr>\n",
       "    <tr>\n",
       "      <th>1</th>\n",
       "      <td>12/29/2024</td>\n",
       "      <td>1,538.570</td>\n",
       "      <td>1,549.000</td>\n",
       "      <td>1,549.000</td>\n",
       "      <td>1,538.570</td>\n",
       "      <td>NaN</td>\n",
       "      <td>-0.03%</td>\n",
       "    </tr>\n",
       "    <tr>\n",
       "      <th>2</th>\n",
       "      <td>12/27/2024</td>\n",
       "      <td>1,539.000</td>\n",
       "      <td>1,538.570</td>\n",
       "      <td>1,559.500</td>\n",
       "      <td>1,532.285</td>\n",
       "      <td>NaN</td>\n",
       "      <td>0.09%</td>\n",
       "    </tr>\n",
       "    <tr>\n",
       "      <th>3</th>\n",
       "      <td>12/26/2024</td>\n",
       "      <td>1,537.570</td>\n",
       "      <td>1,538.570</td>\n",
       "      <td>1,538.570</td>\n",
       "      <td>1,538.570</td>\n",
       "      <td>NaN</td>\n",
       "      <td>0.12%</td>\n",
       "    </tr>\n",
       "    <tr>\n",
       "      <th>4</th>\n",
       "      <td>12/25/2024</td>\n",
       "      <td>1,535.720</td>\n",
       "      <td>1,535.720</td>\n",
       "      <td>1,535.720</td>\n",
       "      <td>1,535.720</td>\n",
       "      <td>NaN</td>\n",
       "      <td>-0.15%</td>\n",
       "    </tr>\n",
       "  </tbody>\n",
       "</table>\n",
       "</div>"
      ],
      "text/plain": [
       "         Date      Price       Open       High        Low Vol. Change %\n",
       "0  12/30/2024  1,538.570  1,549.000  1,552.500  1,538.570  NaN    0.00%\n",
       "1  12/29/2024  1,538.570  1,549.000  1,549.000  1,538.570  NaN   -0.03%\n",
       "2  12/27/2024  1,539.000  1,538.570  1,559.500  1,532.285  NaN    0.09%\n",
       "3  12/26/2024  1,537.570  1,538.570  1,538.570  1,538.570  NaN    0.12%\n",
       "4  12/25/2024  1,535.720  1,535.720  1,535.720  1,535.720  NaN   -0.15%"
      ]
     },
     "execution_count": 51,
     "metadata": {},
     "output_type": "execute_result"
    }
   ],
   "source": [
    "usd_ngn.head()"
   ]
  },
  {
   "cell_type": "code",
   "execution_count": 52,
   "metadata": {},
   "outputs": [],
   "source": [
    "# types of variables\n",
    "usd_ngn.Date = pd.to_datetime(usd_ngn.Date)\n",
    "usd_ngn.Price = pd.to_numeric(usd_ngn.Price.str.replace(',', ''), errors='coerce')\n",
    "usd_ngn.Open = pd.to_numeric(usd_ngn.Open.str.replace(',', ''), errors='coerce')\n",
    "usd_ngn.High = pd.to_numeric(usd_ngn.High.str.replace(',', ''), errors='coerce')\n",
    "usd_ngn.Low = pd.to_numeric(usd_ngn.Low.str.replace(',', ''), errors='coerce')\n",
    "usd_ngn[\"Change %\"] = pd.to_numeric(usd_ngn[\"Change %\"].str.replace('%', ''), errors='coerce')"
   ]
  },
  {
   "cell_type": "code",
   "execution_count": 53,
   "metadata": {},
   "outputs": [
    {
     "data": {
      "text/html": [
       "<div>\n",
       "<style scoped>\n",
       "    .dataframe tbody tr th:only-of-type {\n",
       "        vertical-align: middle;\n",
       "    }\n",
       "\n",
       "    .dataframe tbody tr th {\n",
       "        vertical-align: top;\n",
       "    }\n",
       "\n",
       "    .dataframe thead th {\n",
       "        text-align: right;\n",
       "    }\n",
       "</style>\n",
       "<table border=\"1\" class=\"dataframe\">\n",
       "  <thead>\n",
       "    <tr style=\"text-align: right;\">\n",
       "      <th></th>\n",
       "      <th>Date</th>\n",
       "      <th>Price</th>\n",
       "      <th>Open</th>\n",
       "      <th>High</th>\n",
       "      <th>Low</th>\n",
       "      <th>Vol.</th>\n",
       "      <th>Change %</th>\n",
       "    </tr>\n",
       "  </thead>\n",
       "  <tbody>\n",
       "    <tr>\n",
       "      <th>0</th>\n",
       "      <td>2024-12-30</td>\n",
       "      <td>1538.57</td>\n",
       "      <td>1549.00</td>\n",
       "      <td>1552.50</td>\n",
       "      <td>1538.570</td>\n",
       "      <td>NaN</td>\n",
       "      <td>0.00</td>\n",
       "    </tr>\n",
       "    <tr>\n",
       "      <th>1</th>\n",
       "      <td>2024-12-29</td>\n",
       "      <td>1538.57</td>\n",
       "      <td>1549.00</td>\n",
       "      <td>1549.00</td>\n",
       "      <td>1538.570</td>\n",
       "      <td>NaN</td>\n",
       "      <td>-0.03</td>\n",
       "    </tr>\n",
       "    <tr>\n",
       "      <th>2</th>\n",
       "      <td>2024-12-27</td>\n",
       "      <td>1539.00</td>\n",
       "      <td>1538.57</td>\n",
       "      <td>1559.50</td>\n",
       "      <td>1532.285</td>\n",
       "      <td>NaN</td>\n",
       "      <td>0.09</td>\n",
       "    </tr>\n",
       "    <tr>\n",
       "      <th>3</th>\n",
       "      <td>2024-12-26</td>\n",
       "      <td>1537.57</td>\n",
       "      <td>1538.57</td>\n",
       "      <td>1538.57</td>\n",
       "      <td>1538.570</td>\n",
       "      <td>NaN</td>\n",
       "      <td>0.12</td>\n",
       "    </tr>\n",
       "    <tr>\n",
       "      <th>4</th>\n",
       "      <td>2024-12-25</td>\n",
       "      <td>1535.72</td>\n",
       "      <td>1535.72</td>\n",
       "      <td>1535.72</td>\n",
       "      <td>1535.720</td>\n",
       "      <td>NaN</td>\n",
       "      <td>-0.15</td>\n",
       "    </tr>\n",
       "  </tbody>\n",
       "</table>\n",
       "</div>"
      ],
      "text/plain": [
       "        Date    Price     Open     High       Low Vol.  Change %\n",
       "0 2024-12-30  1538.57  1549.00  1552.50  1538.570  NaN      0.00\n",
       "1 2024-12-29  1538.57  1549.00  1549.00  1538.570  NaN     -0.03\n",
       "2 2024-12-27  1539.00  1538.57  1559.50  1532.285  NaN      0.09\n",
       "3 2024-12-26  1537.57  1538.57  1538.57  1538.570  NaN      0.12\n",
       "4 2024-12-25  1535.72  1535.72  1535.72  1535.720  NaN     -0.15"
      ]
     },
     "execution_count": 53,
     "metadata": {},
     "output_type": "execute_result"
    }
   ],
   "source": [
    "usd_ngn.head()"
   ]
  },
  {
   "cell_type": "code",
   "execution_count": 54,
   "metadata": {},
   "outputs": [
    {
     "data": {
      "text/plain": [
       "<Axes: title={'center': 'USD/NGN Exchange Rate'}, xlabel='Date'>"
      ]
     },
     "execution_count": 54,
     "metadata": {},
     "output_type": "execute_result"
    },
    {
     "data": {
      "image/png": "[encoded data removed]",
      "text/plain": [
       "<Figure size 1000x500 with 1 Axes>"
      ]
     },
     "metadata": {},
     "output_type": "display_data"
    }
   ],
   "source": [
    "usd_ngn.sort_values('Date').set_index('Date').Price.plot(kind='line', title='USD/NGN Exchange Rate', figsize=(10, 5))"
   ]
  },
  {
   "cell_type": "code",
   "execution_count": 55,
   "metadata": {},
   "outputs": [
    {
     "data": {
      "text/plain": [
       "<Axes: title={'center': 'USD/NGN Exchange Rate'}, xlabel='Date'>"
      ]
     },
     "execution_count": 55,
     "metadata": {},
     "output_type": "execute_result"
    },
    {
     "data": {
      "image/png": "[encoded data removed]",
      "text/plain": [
       "<Figure size 1000x500 with 1 Axes>"
      ]
     },
     "metadata": {},
     "output_type": "display_data"
    }
   ],
   "source": [
    "n_days = 60\n",
    "usd_ngn.sort_values(\"Date\").set_index(\"Date\")['Price'].rolling(window=n_days).mean().plot(kind='line', title='USD/NGN Exchange Rate', figsize=(10, 5))"
   ]
  },
  {
   "cell_type": "code",
   "execution_count": 121,
   "metadata": {},
   "outputs": [],
   "source": [
    "n_days = 85"
   ]
  },
  {
   "cell_type": "code",
   "execution_count": 116,
   "metadata": {},
   "outputs": [
    {
     "data": {
      "text/html": [
       "<div>\n",
       "<style scoped>\n",
       "    .dataframe tbody tr th:only-of-type {\n",
       "        vertical-align: middle;\n",
       "    }\n",
       "\n",
       "    .dataframe tbody tr th {\n",
       "        vertical-align: top;\n",
       "    }\n",
       "\n",
       "    .dataframe thead th {\n",
       "        text-align: right;\n",
       "    }\n",
       "</style>\n",
       "<table border=\"1\" class=\"dataframe\">\n",
       "  <thead>\n",
       "    <tr style=\"text-align: right;\">\n",
       "      <th></th>\n",
       "      <th>Date</th>\n",
       "      <th>Price</th>\n",
       "      <th>Open</th>\n",
       "      <th>High</th>\n",
       "      <th>Low</th>\n",
       "      <th>Change %</th>\n",
       "    </tr>\n",
       "  </thead>\n",
       "  <tbody>\n",
       "    <tr>\n",
       "      <th>count</th>\n",
       "      <td>70</td>\n",
       "      <td>70.000000</td>\n",
       "      <td>70.000000</td>\n",
       "      <td>70.000000</td>\n",
       "      <td>70.000000</td>\n",
       "      <td>70.000000</td>\n",
       "    </tr>\n",
       "    <tr>\n",
       "      <th>mean</th>\n",
       "      <td>2024-11-12 06:30:51.428571392</td>\n",
       "      <td>1611.084000</td>\n",
       "      <td>1629.251429</td>\n",
       "      <td>1651.686929</td>\n",
       "      <td>1605.014214</td>\n",
       "      <td>-0.050714</td>\n",
       "    </tr>\n",
       "    <tr>\n",
       "      <th>min</th>\n",
       "      <td>2024-09-25 00:00:00</td>\n",
       "      <td>1532.270000</td>\n",
       "      <td>1533.270000</td>\n",
       "      <td>1535.720000</td>\n",
       "      <td>1485.000000</td>\n",
       "      <td>-3.310000</td>\n",
       "    </tr>\n",
       "    <tr>\n",
       "      <th>25%</th>\n",
       "      <td>2024-10-18 18:00:00</td>\n",
       "      <td>1558.812500</td>\n",
       "      <td>1599.810000</td>\n",
       "      <td>1637.773750</td>\n",
       "      <td>1541.427500</td>\n",
       "      <td>-0.067500</td>\n",
       "    </tr>\n",
       "    <tr>\n",
       "      <th>50%</th>\n",
       "      <td>2024-11-12 12:00:00</td>\n",
       "      <td>1618.260000</td>\n",
       "      <td>1643.260000</td>\n",
       "      <td>1671.457500</td>\n",
       "      <td>1621.250000</td>\n",
       "      <td>0.000000</td>\n",
       "    </tr>\n",
       "    <tr>\n",
       "      <th>75%</th>\n",
       "      <td>2024-12-05 18:00:00</td>\n",
       "      <td>1658.507500</td>\n",
       "      <td>1668.970000</td>\n",
       "      <td>1690.156250</td>\n",
       "      <td>1639.545000</td>\n",
       "      <td>0.115000</td>\n",
       "    </tr>\n",
       "    <tr>\n",
       "      <th>max</th>\n",
       "      <td>2024-12-30 00:00:00</td>\n",
       "      <td>1681.390000</td>\n",
       "      <td>1693.360000</td>\n",
       "      <td>1717.500000</td>\n",
       "      <td>1679.125000</td>\n",
       "      <td>1.960000</td>\n",
       "    </tr>\n",
       "    <tr>\n",
       "      <th>std</th>\n",
       "      <td>NaN</td>\n",
       "      <td>49.224766</td>\n",
       "      <td>51.345749</td>\n",
       "      <td>56.306400</td>\n",
       "      <td>49.998423</td>\n",
       "      <td>0.724957</td>\n",
       "    </tr>\n",
       "  </tbody>\n",
       "</table>\n",
       "</div>"
      ],
      "text/plain": [
       "                                Date        Price         Open         High  \\\n",
       "count                             70    70.000000    70.000000    70.000000   \n",
       "mean   2024-11-12 06:30:51.428571392  1611.084000  1629.251429  1651.686929   \n",
       "min              2024-09-25 00:00:00  1532.270000  1533.270000  1535.720000   \n",
       "25%              2024-10-18 18:00:00  1558.812500  1599.810000  1637.773750   \n",
       "50%              2024-11-12 12:00:00  1618.260000  1643.260000  1671.457500   \n",
       "75%              2024-12-05 18:00:00  1658.507500  1668.970000  1690.156250   \n",
       "max              2024-12-30 00:00:00  1681.390000  1693.360000  1717.500000   \n",
       "std                              NaN    49.224766    51.345749    56.306400   \n",
       "\n",
       "               Low   Change %  \n",
       "count    70.000000  70.000000  \n",
       "mean   1605.014214  -0.050714  \n",
       "min    1485.000000  -3.310000  \n",
       "25%    1541.427500  -0.067500  \n",
       "50%    1621.250000   0.000000  \n",
       "75%    1639.545000   0.115000  \n",
       "max    1679.125000   1.960000  \n",
       "std      49.998423   0.724957  "
      ]
     },
     "execution_count": 116,
     "metadata": {},
     "output_type": "execute_result"
    }
   ],
   "source": [
    "usd_ngn.head(n_days).describe()"
   ]
  },
  {
   "cell_type": "code",
   "execution_count": 117,
   "metadata": {},
   "outputs": [],
   "source": [
    "conf_level = 0.95"
   ]
  },
  {
   "cell_type": "code",
   "execution_count": 124,
   "metadata": {},
   "outputs": [
    {
     "data": {
      "image/png": "[encoded data removed]",
      "text/plain": [
       "<Figure size 640x480 with 1 Axes>"
      ]
     },
     "metadata": {},
     "output_type": "display_data"
    }
   ],
   "source": [
    "sns.kdeplot(usd_ngn['Price'].head(n_days), fill=True)\n",
    "plt.show()"
   ]
  },
  {
   "cell_type": "code",
   "execution_count": 107,
   "metadata": {},
   "outputs": [
    {
     "data": {
      "image/png": "[encoded data removed]",
      "text/plain": [
       "<Figure size 640x480 with 1 Axes>"
      ]
     },
     "metadata": {},
     "output_type": "display_data"
    }
   ],
   "source": [
    "## Mixture of Two Normal Distributions\n",
    "import numpy as np\n",
    "import matplotlib.pyplot as plt\n",
    "\n",
    "# Generate data from two different normal distributions\n",
    "data1 = np.random.normal(loc=20, scale=5, size=1000)\n",
    "data2 = np.random.normal(loc=50, scale=5, size=500)\n",
    "\n",
    "# Combine the data to create a bimodal distribution\n",
    "data = np.concatenate([data1, data2])\n",
    "\n",
    "# Plot the histogram\n",
    "plt.hist(data, bins=50, density=True, alpha=0.6, color='g')\n",
    "\n",
    "# Plot the density\n",
    "plt.title('Bimodal Distribution')\n",
    "plt.xlabel('Value')\n",
    "plt.ylabel('Frequency')\n",
    "plt.show()"
   ]
  },
  {
   "cell_type": "markdown",
   "metadata": {},
   "source": [
    "## Fitting a model to the prices data"
   ]
  },
  {
   "cell_type": "code",
   "execution_count": 127,
   "metadata": {},
   "outputs": [
    {
     "name": "stderr",
     "output_type": "stream",
     "text": [
      "c:\\Users\\origin\\anaconda3\\Lib\\site-packages\\sklearn\\cluster\\_kmeans.py:1429: UserWarning: KMeans is known to have a memory leak on Windows with MKL, when there are less chunks than available threads. You can avoid it by setting the environment variable OMP_NUM_THREADS=1.\n",
      "  warnings.warn(\n"
     ]
    },
    {
     "data": {
      "image/png": "[encoded data removed]",
      "text/plain": [
       "<Figure size 640x480 with 1 Axes>"
      ]
     },
     "metadata": {},
     "output_type": "display_data"
    },
    {
     "name": "stdout",
     "output_type": "stream",
     "text": [
      "Means: [[1538.74875027]\n",
      " [1629.84587197]]\n",
      "Covariances: [[[ 12.37288147]]\n",
      "\n",
      " [[804.78058446]]]\n"
     ]
    }
   ],
   "source": [
    "# Fit a Gaussian Mixture Model with 2 components\n",
    "gmm = GaussianMixture(n_components=2)\n",
    "gmm.fit(usd_ngn.head(n_days)[['Price']])\n",
    "\n",
    "# Predict the component for each data point\n",
    "labels = gmm.predict(usd_ngn.head(n_days)[['Price']])\n",
    "\n",
    "# Plot the data points with different colors for each component\n",
    "plt.scatter(usd_ngn.head(n_days)['Price'], np.zeros_like(usd_ngn['Price'].head(n_days)), c=labels, cmap='viridis')\n",
    "plt.title('Gaussian Mixture Model')\n",
    "plt.xlabel('Price')\n",
    "plt.show()\n",
    "\n",
    "# Print the means and covariances of the components\n",
    "print('Means:', gmm.means_)\n",
    "print('Covariances:', gmm.covariances_)"
   ]
  },
  {
   "cell_type": "markdown",
   "metadata": {},
   "source": [
    "## Confidence interval for the mean"
   ]
  },
  {
   "cell_type": "code",
   "execution_count": 132,
   "metadata": {},
   "outputs": [
    {
     "data": {
      "application/vnd.jupyter.widget-view+json": {
       "model_id": "bdd563ebad7d4a62bd4bc1b1aebe01d3",
       "version_major": 2,
       "version_minor": 0
      },
      "text/plain": [
       "  0%|          | 0/100000 [00:00<?, ?it/s]"
      ]
     },
     "metadata": {},
     "output_type": "display_data"
    },
    {
     "name": "stdout",
     "output_type": "stream",
     "text": [
      "95% Confidence Intervals for Means:\n",
      "[[1537.66049846 1537.32219387]\n",
      " [1668.68818524 1669.46722413]]\n",
      "95% Confidence Intervals for Covariances:\n",
      "[[   5.39968859    3.25991903]\n",
      " [1666.38516274 1605.40306011]]\n"
     ]
    }
   ],
   "source": [
    "# Fit the initial GMM\n",
    "gmm = GaussianMixture(n_components=2, random_state=0)\n",
    "gmm.fit(usd_ngn[['Price']].head(n_days))\n",
    "\n",
    "# Number of bootstrap samples\n",
    "n_bootstrap = 100000\n",
    "\n",
    "# Arrays to store bootstrap estimates\n",
    "bootstrap_means = np.zeros((n_bootstrap, 2))\n",
    "bootstrap_covariances = np.zeros((n_bootstrap, 2))\n",
    "\n",
    "# Perform bootstrapping\n",
    "for i in tqdm(range(n_bootstrap)):\n",
    "    # Resample the data with replacement\n",
    "    sample = resample(usd_ngn[['Price']].head(n_days), replace=True, n_samples=n_days)\n",
    "    \n",
    "    # Fit the GMM to the resampled data\n",
    "    gmm_bootstrap = GaussianMixture(n_components=2, random_state=0)\n",
    "    gmm_bootstrap.fit(sample)\n",
    "    \n",
    "    # Store the parameter estimates\n",
    "    bootstrap_means[i, :] = gmm_bootstrap.means_.flatten()\n",
    "    bootstrap_covariances[i, :] = gmm_bootstrap.covariances_.flatten()\n",
    "\n",
    "# Calculate the 95% confidence intervals for the means\n",
    "mean_conf_intervals = np.percentile(bootstrap_means, [2.5, 97.5], axis=0)\n",
    "cov_conf_intervals = np.percentile(bootstrap_covariances, [2.5, 97.5], axis=0)\n",
    "\n",
    "print('95% Confidence Intervals for Means:')\n",
    "print(mean_conf_intervals)\n",
    "\n",
    "print('95% Confidence Intervals for Covariances:')\n",
    "print(cov_conf_intervals)"
   ]
  },
  {
   "cell_type": "code",
   "execution_count": 133,
   "metadata": {},
   "outputs": [
    {
     "name": "stdout",
     "output_type": "stream",
     "text": [
      "95% Confidence Interval for the next day's price:\n",
      "[1536.66397548 1669.76332048]\n"
     ]
    }
   ],
   "source": [
    "# Generate synthetic samples for the next day's price\n",
    "n_samples = 10000\n",
    "synthetic_samples = np.zeros(n_samples)\n",
    "\n",
    "for i in range(n_samples):\n",
    "    # Randomly select a bootstrap estimate\n",
    "    idx = np.random.randint(n_bootstrap)\n",
    "    means = bootstrap_means[idx]\n",
    "    covariances = bootstrap_covariances[idx]\n",
    "    \n",
    "    # Randomly select a component\n",
    "    component = np.random.choice([0, 1])\n",
    "    \n",
    "    # Generate a synthetic sample from the selected component\n",
    "    synthetic_samples[i] = np.random.normal(means[component], np.sqrt(covariances[component]/np.sqrt(n_days)))\n",
    "\n",
    "# Calculate the 95% confidence interval for the next day's price\n",
    "conf_interval = np.percentile(synthetic_samples, [2.5, 97.5])\n",
    "\n",
    "print('95% Confidence Interval for the next day\\'s price:')\n",
    "print(conf_interval)"
   ]
  },
  {
   "cell_type": "markdown",
   "metadata": {},
   "source": [
    "## Monte Carlo Simulation"
   ]
  },
  {
   "cell_type": "code",
   "execution_count": 141,
   "metadata": {},
   "outputs": [
    {
     "data": {
      "application/vnd.jupyter.widget-view+json": {
       "model_id": "b43a3d1a135347e3928bf1c95a5bd959",
       "version_major": 2,
       "version_minor": 0
      },
      "text/plain": [
       "  0%|          | 0/1000000 [00:00<?, ?it/s]"
      ]
     },
     "metadata": {},
     "output_type": "display_data"
    },
    {
     "name": "stdout",
     "output_type": "stream",
     "text": [
      "Probability of price falling below 1600: 0.2099\n",
      "Probability of price falling between 1600 and 1700: 0.7901\n",
      "Probability of price falling between 1700 and 1800: 0.0000\n",
      "Probability of price falling above 1800: 0.0000\n"
     ]
    }
   ],
   "source": [
    "\n",
    "# Fit a Gaussian Mixture Model with 2 components\n",
    "gmm = GaussianMixture(n_components=2, random_state=0)\n",
    "gmm.fit(usd_ngn[['Price']].head(n_days))\n",
    "\n",
    "# Monte Carlo simulation parameters\n",
    "n_simulations = 1000000\n",
    "intervals_bounds = [0, 1600, 1700, 1800]\n",
    "\n",
    "# Initialize counters\n",
    "n_times_price_falls_below_1600 = 0\n",
    "n_times_price_falls_between_1600_1700 = 0\n",
    "n_times_price_falls_between_1700_1800 = 0\n",
    "n_times_price_falls_above_1800 = 0\n",
    "\n",
    "# Perform Monte Carlo simulation\n",
    "for i in tqdm(range(n_simulations)):\n",
    "    # Generate synthetic samples for the next day's price using the GMM\n",
    "    component = np.random.choice([0, 1], p=gmm.weights_)\n",
    "    mean = gmm.means_[component][0]\n",
    "    std_dev = np.sqrt(gmm.covariances_[component][0][0])/np.sqrt(n_days)\n",
    "    simulated_price = np.random.normal(mean, std_dev, n_days)\n",
    "    \n",
    "    # Check which interval the minimum simulated price falls into\n",
    "    min_price = simulated_price.min()\n",
    "    if min_price < intervals_bounds[1]:\n",
    "        n_times_price_falls_below_1600 += 1\n",
    "    elif min_price < intervals_bounds[2]:\n",
    "        n_times_price_falls_between_1600_1700 += 1\n",
    "    elif min_price < intervals_bounds[3]:\n",
    "        n_times_price_falls_between_1700_1800 += 1\n",
    "    else:\n",
    "        n_times_price_falls_above_1800 += 1\n",
    "\n",
    "# Calculate probabilities\n",
    "prob_below_1600 = n_times_price_falls_below_1600 / n_simulations\n",
    "prob_between_1600_1700 = n_times_price_falls_between_1600_1700 / n_simulations\n",
    "prob_between_1700_1800 = n_times_price_falls_between_1700_1800 / n_simulations\n",
    "prob_above_1800 = n_times_price_falls_above_1800 / n_simulations\n",
    "\n",
    "print(f'Probability of price falling below 1600: {prob_below_1600:.4f}')\n",
    "print(f'Probability of price falling between 1600 and 1700: {prob_between_1600_1700:.4f}')\n",
    "print(f'Probability of price falling between 1700 and 1800: {prob_between_1700_1800:.4f}')\n",
    "print(f'Probability of price falling above 1800: {prob_above_1800:.4f}')"
   ]
  }
 ],
 "metadata": {
  "kernelspec": {
   "display_name": "base",
   "language": "python",
   "name": "python3"
  },
  "language_info": {
   "codemirror_mode": {
    "name": "ipython",
    "version": 3
   },
   "file_extension": ".py",
   "mimetype": "text/x-python",
   "name": "python",
   "nbconvert_exporter": "python",
   "pygments_lexer": "ipython3",
   "version": "3.12.7"
  }
 },
 "nbformat": 4,
 "nbformat_minor": 2
}
