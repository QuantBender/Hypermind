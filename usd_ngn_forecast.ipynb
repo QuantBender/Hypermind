{
 "cells": [
  {
   "cell_type": "code",
   "execution_count": 21,
   "metadata": {},
   "outputs": [],
   "source": [
    "import os \n",
    "import numpy as np \n",
    "import pandas as pd\n",
    "from scipy import stats"
   ]
  },
  {
   "cell_type": "code",
   "execution_count": 22,
   "metadata": {},
   "outputs": [],
   "source": [
    "usd_ngn = pd.read_csv('usd_ngn.csv')"
   ]
  },
  {
   "cell_type": "code",
   "execution_count": 23,
   "metadata": {},
   "outputs": [
    {
     "name": "stdout",
     "output_type": "stream",
     "text": [
      "<class 'pandas.core.frame.DataFrame'>\n",
      "RangeIndex: 2870 entries, 0 to 2869\n",
      "Data columns (total 7 columns):\n",
      " #   Column    Non-Null Count  Dtype \n",
      "---  ------    --------------  ----- \n",
      " 0   Date      2870 non-null   object\n",
      " 1   Price     2870 non-null   object\n",
      " 2   Open      2870 non-null   object\n",
      " 3   High      2870 non-null   object\n",
      " 4   Low       2870 non-null   object\n",
      " 5   Vol.      652 non-null    object\n",
      " 6   Change %  2870 non-null   object\n",
      "dtypes: object(7)\n",
      "memory usage: 157.1+ KB\n"
     ]
    }
   ],
   "source": [
    "usd_ngn.info()"
   ]
  },
  {
   "cell_type": "code",
   "execution_count": 24,
   "metadata": {},
   "outputs": [
    {
     "data": {
      "text/html": [
       "<div>\n",
       "<style scoped>\n",
       "    .dataframe tbody tr th:only-of-type {\n",
       "        vertical-align: middle;\n",
       "    }\n",
       "\n",
       "    .dataframe tbody tr th {\n",
       "        vertical-align: top;\n",
       "    }\n",
       "\n",
       "    .dataframe thead th {\n",
       "        text-align: right;\n",
       "    }\n",
       "</style>\n",
       "<table border=\"1\" class=\"dataframe\">\n",
       "  <thead>\n",
       "    <tr style=\"text-align: right;\">\n",
       "      <th></th>\n",
       "      <th>Date</th>\n",
       "      <th>Price</th>\n",
       "      <th>Open</th>\n",
       "      <th>High</th>\n",
       "      <th>Low</th>\n",
       "      <th>Vol.</th>\n",
       "      <th>Change %</th>\n",
       "    </tr>\n",
       "  </thead>\n",
       "  <tbody>\n",
       "    <tr>\n",
       "      <th>0</th>\n",
       "      <td>12/30/2024</td>\n",
       "      <td>1,538.570</td>\n",
       "      <td>1,549.000</td>\n",
       "      <td>1,552.500</td>\n",
       "      <td>1,538.570</td>\n",
       "      <td>NaN</td>\n",
       "      <td>0.00%</td>\n",
       "    </tr>\n",
       "    <tr>\n",
       "      <th>1</th>\n",
       "      <td>12/29/2024</td>\n",
       "      <td>1,538.570</td>\n",
       "      <td>1,549.000</td>\n",
       "      <td>1,549.000</td>\n",
       "      <td>1,538.570</td>\n",
       "      <td>NaN</td>\n",
       "      <td>-0.03%</td>\n",
       "    </tr>\n",
       "    <tr>\n",
       "      <th>2</th>\n",
       "      <td>12/27/2024</td>\n",
       "      <td>1,539.000</td>\n",
       "      <td>1,538.570</td>\n",
       "      <td>1,559.500</td>\n",
       "      <td>1,532.285</td>\n",
       "      <td>NaN</td>\n",
       "      <td>0.09%</td>\n",
       "    </tr>\n",
       "    <tr>\n",
       "      <th>3</th>\n",
       "      <td>12/26/2024</td>\n",
       "      <td>1,537.570</td>\n",
       "      <td>1,538.570</td>\n",
       "      <td>1,538.570</td>\n",
       "      <td>1,538.570</td>\n",
       "      <td>NaN</td>\n",
       "      <td>0.12%</td>\n",
       "    </tr>\n",
       "    <tr>\n",
       "      <th>4</th>\n",
       "      <td>12/25/2024</td>\n",
       "      <td>1,535.720</td>\n",
       "      <td>1,535.720</td>\n",
       "      <td>1,535.720</td>\n",
       "      <td>1,535.720</td>\n",
       "      <td>NaN</td>\n",
       "      <td>-0.15%</td>\n",
       "    </tr>\n",
       "  </tbody>\n",
       "</table>\n",
       "</div>"
      ],
      "text/plain": [
       "         Date      Price       Open       High        Low Vol. Change %\n",
       "0  12/30/2024  1,538.570  1,549.000  1,552.500  1,538.570  NaN    0.00%\n",
       "1  12/29/2024  1,538.570  1,549.000  1,549.000  1,538.570  NaN   -0.03%\n",
       "2  12/27/2024  1,539.000  1,538.570  1,559.500  1,532.285  NaN    0.09%\n",
       "3  12/26/2024  1,537.570  1,538.570  1,538.570  1,538.570  NaN    0.12%\n",
       "4  12/25/2024  1,535.720  1,535.720  1,535.720  1,535.720  NaN   -0.15%"
      ]
     },
     "execution_count": 24,
     "metadata": {},
     "output_type": "execute_result"
    }
   ],
   "source": [
    "usd_ngn.head()"
   ]
  },
  {
   "cell_type": "code",
   "execution_count": 25,
   "metadata": {},
   "outputs": [],
   "source": [
    "# types of variables\n",
    "usd_ngn.Date = pd.to_datetime(usd_ngn.Date)\n",
    "usd_ngn.Price = pd.to_numeric(usd_ngn.Price.str.replace(',', ''), errors='coerce')\n",
    "usd_ngn.Open = pd.to_numeric(usd_ngn.Open.str.replace(',', ''), errors='coerce')\n",
    "usd_ngn.High = pd.to_numeric(usd_ngn.High.str.replace(',', ''), errors='coerce')\n",
    "usd_ngn.Low = pd.to_numeric(usd_ngn.Low.str.replace(',', ''), errors='coerce')\n",
    "usd_ngn[\"Change %\"] = pd.to_numeric(usd_ngn[\"Change %\"].str.replace('%', ''), errors='coerce')"
   ]
  },
  {
   "cell_type": "code",
   "execution_count": 26,
   "metadata": {},
   "outputs": [
    {
     "data": {
      "text/html": [
       "<div>\n",
       "<style scoped>\n",
       "    .dataframe tbody tr th:only-of-type {\n",
       "        vertical-align: middle;\n",
       "    }\n",
       "\n",
       "    .dataframe tbody tr th {\n",
       "        vertical-align: top;\n",
       "    }\n",
       "\n",
       "    .dataframe thead th {\n",
       "        text-align: right;\n",
       "    }\n",
       "</style>\n",
       "<table border=\"1\" class=\"dataframe\">\n",
       "  <thead>\n",
       "    <tr style=\"text-align: right;\">\n",
       "      <th></th>\n",
       "      <th>Date</th>\n",
       "      <th>Price</th>\n",
       "      <th>Open</th>\n",
       "      <th>High</th>\n",
       "      <th>Low</th>\n",
       "      <th>Vol.</th>\n",
       "      <th>Change %</th>\n",
       "    </tr>\n",
       "  </thead>\n",
       "  <tbody>\n",
       "    <tr>\n",
       "      <th>0</th>\n",
       "      <td>2024-12-30</td>\n",
       "      <td>1538.57</td>\n",
       "      <td>1549.00</td>\n",
       "      <td>1552.50</td>\n",
       "      <td>1538.570</td>\n",
       "      <td>NaN</td>\n",
       "      <td>0.00</td>\n",
       "    </tr>\n",
       "    <tr>\n",
       "      <th>1</th>\n",
       "      <td>2024-12-29</td>\n",
       "      <td>1538.57</td>\n",
       "      <td>1549.00</td>\n",
       "      <td>1549.00</td>\n",
       "      <td>1538.570</td>\n",
       "      <td>NaN</td>\n",
       "      <td>-0.03</td>\n",
       "    </tr>\n",
       "    <tr>\n",
       "      <th>2</th>\n",
       "      <td>2024-12-27</td>\n",
       "      <td>1539.00</td>\n",
       "      <td>1538.57</td>\n",
       "      <td>1559.50</td>\n",
       "      <td>1532.285</td>\n",
       "      <td>NaN</td>\n",
       "      <td>0.09</td>\n",
       "    </tr>\n",
       "    <tr>\n",
       "      <th>3</th>\n",
       "      <td>2024-12-26</td>\n",
       "      <td>1537.57</td>\n",
       "      <td>1538.57</td>\n",
       "      <td>1538.57</td>\n",
       "      <td>1538.570</td>\n",
       "      <td>NaN</td>\n",
       "      <td>0.12</td>\n",
       "    </tr>\n",
       "    <tr>\n",
       "      <th>4</th>\n",
       "      <td>2024-12-25</td>\n",
       "      <td>1535.72</td>\n",
       "      <td>1535.72</td>\n",
       "      <td>1535.72</td>\n",
       "      <td>1535.720</td>\n",
       "      <td>NaN</td>\n",
       "      <td>-0.15</td>\n",
       "    </tr>\n",
       "  </tbody>\n",
       "</table>\n",
       "</div>"
      ],
      "text/plain": [
       "        Date    Price     Open     High       Low Vol.  Change %\n",
       "0 2024-12-30  1538.57  1549.00  1552.50  1538.570  NaN      0.00\n",
       "1 2024-12-29  1538.57  1549.00  1549.00  1538.570  NaN     -0.03\n",
       "2 2024-12-27  1539.00  1538.57  1559.50  1532.285  NaN      0.09\n",
       "3 2024-12-26  1537.57  1538.57  1538.57  1538.570  NaN      0.12\n",
       "4 2024-12-25  1535.72  1535.72  1535.72  1535.720  NaN     -0.15"
      ]
     },
     "execution_count": 26,
     "metadata": {},
     "output_type": "execute_result"
    }
   ],
   "source": [
    "usd_ngn.head()"
   ]
  },
  {
   "cell_type": "code",
   "execution_count": 27,
   "metadata": {},
   "outputs": [
    {
     "data": {
      "text/plain": [
       "<Axes: title={'center': 'USD/NGN Exchange Rate'}, xlabel='Date'>"
      ]
     },
     "execution_count": 27,
     "metadata": {},
     "output_type": "execute_result"
    },
    {
     "data": {
      "image/png": "[encoded data removed]",
      "text/plain": [
       "<Figure size 1000x500 with 1 Axes>"
      ]
     },
     "metadata": {},
     "output_type": "display_data"
    }
   ],
   "source": [
    "usd_ngn.sort_values('Date').set_index('Date').Price.plot(kind='line', title='USD/NGN Exchange Rate', figsize=(10, 5))"
   ]
  },
  {
   "cell_type": "code",
   "execution_count": 30,
   "metadata": {},
   "outputs": [
    {
     "data": {
      "text/plain": [
       "<Axes: title={'center': 'USD/NGN Exchange Rate'}, xlabel='Date'>"
      ]
     },
     "execution_count": 30,
     "metadata": {},
     "output_type": "execute_result"
    },
    {
     "data": {
      "image/png": "[encoded data removed]",
      "text/plain": [
       "<Figure size 1000x500 with 1 Axes>"
      ]
     },
     "metadata": {},
     "output_type": "display_data"
    }
   ],
   "source": [
    "n_days = 60\n",
    "usd_ngn.sort_values(\"Date\").set_index(\"Date\")['Price'].rolling(window=n_days).mean().plot(kind='line', title='USD/NGN Exchange Rate', figsize=(10, 5))"
   ]
  },
  {
   "cell_type": "code",
   "execution_count": 43,
   "metadata": {},
   "outputs": [
    {
     "data": {
      "text/html": [
       "<div>\n",
       "<style scoped>\n",
       "    .dataframe tbody tr th:only-of-type {\n",
       "        vertical-align: middle;\n",
       "    }\n",
       "\n",
       "    .dataframe tbody tr th {\n",
       "        vertical-align: top;\n",
       "    }\n",
       "\n",
       "    .dataframe thead th {\n",
       "        text-align: right;\n",
       "    }\n",
       "</style>\n",
       "<table border=\"1\" class=\"dataframe\">\n",
       "  <thead>\n",
       "    <tr style=\"text-align: right;\">\n",
       "      <th></th>\n",
       "      <th>Date</th>\n",
       "      <th>Price</th>\n",
       "      <th>Open</th>\n",
       "      <th>High</th>\n",
       "      <th>Low</th>\n",
       "      <th>Change %</th>\n",
       "    </tr>\n",
       "  </thead>\n",
       "  <tbody>\n",
       "    <tr>\n",
       "      <th>count</th>\n",
       "      <td>30</td>\n",
       "      <td>30.000000</td>\n",
       "      <td>30.000000</td>\n",
       "      <td>30.000000</td>\n",
       "      <td>30.000000</td>\n",
       "      <td>30.000000</td>\n",
       "    </tr>\n",
       "    <tr>\n",
       "      <th>mean</th>\n",
       "      <td>2024-12-10 05:36:00</td>\n",
       "      <td>1587.316667</td>\n",
       "      <td>1601.223000</td>\n",
       "      <td>1619.747500</td>\n",
       "      <td>1576.211000</td>\n",
       "      <td>-0.262667</td>\n",
       "    </tr>\n",
       "    <tr>\n",
       "      <th>min</th>\n",
       "      <td>2024-11-20 00:00:00</td>\n",
       "      <td>1532.270000</td>\n",
       "      <td>1533.270000</td>\n",
       "      <td>1535.720000</td>\n",
       "      <td>1485.000000</td>\n",
       "      <td>-3.310000</td>\n",
       "    </tr>\n",
       "    <tr>\n",
       "      <th>25%</th>\n",
       "      <td>2024-11-29 18:00:00</td>\n",
       "      <td>1538.070000</td>\n",
       "      <td>1547.462500</td>\n",
       "      <td>1553.237500</td>\n",
       "      <td>1533.135000</td>\n",
       "      <td>-0.452500</td>\n",
       "    </tr>\n",
       "    <tr>\n",
       "      <th>50%</th>\n",
       "      <td>2024-12-10 12:00:00</td>\n",
       "      <td>1541.965000</td>\n",
       "      <td>1556.100000</td>\n",
       "      <td>1599.822500</td>\n",
       "      <td>1538.000000</td>\n",
       "      <td>-0.015000</td>\n",
       "    </tr>\n",
       "    <tr>\n",
       "      <th>75%</th>\n",
       "      <td>2024-12-19 18:00:00</td>\n",
       "      <td>1667.032500</td>\n",
       "      <td>1680.475000</td>\n",
       "      <td>1692.567500</td>\n",
       "      <td>1641.875000</td>\n",
       "      <td>0.112500</td>\n",
       "    </tr>\n",
       "    <tr>\n",
       "      <th>max</th>\n",
       "      <td>2024-12-30 00:00:00</td>\n",
       "      <td>1681.390000</td>\n",
       "      <td>1693.360000</td>\n",
       "      <td>1717.500000</td>\n",
       "      <td>1679.125000</td>\n",
       "      <td>0.950000</td>\n",
       "    </tr>\n",
       "    <tr>\n",
       "      <th>std</th>\n",
       "      <td>NaN</td>\n",
       "      <td>62.742189</td>\n",
       "      <td>65.718608</td>\n",
       "      <td>71.299209</td>\n",
       "      <td>61.683962</td>\n",
       "      <td>0.798749</td>\n",
       "    </tr>\n",
       "  </tbody>\n",
       "</table>\n",
       "</div>"
      ],
      "text/plain": [
       "                      Date        Price         Open         High  \\\n",
       "count                   30    30.000000    30.000000    30.000000   \n",
       "mean   2024-12-10 05:36:00  1587.316667  1601.223000  1619.747500   \n",
       "min    2024-11-20 00:00:00  1532.270000  1533.270000  1535.720000   \n",
       "25%    2024-11-29 18:00:00  1538.070000  1547.462500  1553.237500   \n",
       "50%    2024-12-10 12:00:00  1541.965000  1556.100000  1599.822500   \n",
       "75%    2024-12-19 18:00:00  1667.032500  1680.475000  1692.567500   \n",
       "max    2024-12-30 00:00:00  1681.390000  1693.360000  1717.500000   \n",
       "std                    NaN    62.742189    65.718608    71.299209   \n",
       "\n",
       "               Low   Change %  \n",
       "count    30.000000  30.000000  \n",
       "mean   1576.211000  -0.262667  \n",
       "min    1485.000000  -3.310000  \n",
       "25%    1533.135000  -0.452500  \n",
       "50%    1538.000000  -0.015000  \n",
       "75%    1641.875000   0.112500  \n",
       "max    1679.125000   0.950000  \n",
       "std      61.683962   0.798749  "
      ]
     },
     "execution_count": 43,
     "metadata": {},
     "output_type": "execute_result"
    }
   ],
   "source": [
    "usd_ngn.head(30).describe()"
   ]
  },
  {
   "cell_type": "code",
   "execution_count": null,
   "metadata": {},
   "outputs": [],
   "source": []
  }
 ],
 "metadata": {
  "kernelspec": {
   "display_name": "base",
   "language": "python",
   "name": "python3"
  },
  "language_info": {
   "codemirror_mode": {
    "name": "ipython",
    "version": 3
   },
   "file_extension": ".py",
   "mimetype": "text/x-python",
   "name": "python",
   "nbconvert_exporter": "python",
   "pygments_lexer": "ipython3",
   "version": "3.12.7"
  }
 },
 "nbformat": 4,
 "nbformat_minor": 2
}
